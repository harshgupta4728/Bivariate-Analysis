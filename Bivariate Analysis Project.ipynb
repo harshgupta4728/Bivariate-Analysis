{
 "cells": [
  {
   "cell_type": "markdown",
   "metadata": {},
   "source": [
    "# Bivariate Analysis Project: Productivity Level and Time of the Day"
   ]
  },
  {
   "cell_type": "markdown",
   "metadata": {},
   "source": [
    "## Introduction\n",
    "- **Objective:** To investigate the bivariate relationship between productivity levels and the time of the day.\n",
    "- **Variables:**\n",
    "   - Dependent Variable: Productivity Level (1-5)\n",
    "   - Independent Variable: Time of the Day"
   ]
  },
  {
   "cell_type": "markdown",
   "metadata": {},
   "source": [
    "## Data Collection\n",
    "- Record your productivity level (on a scale of 1-5) at different times of the day.\n",
    "- Time intervals could be from the time you wake up until you sleep."
   ]
  },
  {
   "cell_type": "code",
   "execution_count": 1,
   "metadata": {},
   "outputs": [],
   "source": [
    "# Data Collection\n",
    "import pandas as pd\n",
    "import numpy as np\n",
    "\n",
    "# Generate synthetic data\n",
    "np.random.seed(42)\n",
    "time_of_day = ['Morning', 'Afternoon', 'Evening', 'Night']\n",
    "productivity_levels = np.random.randint(1, 6, size=len(time_of_day))\n",
    "\n",
    "# Create a DataFrame\n",
    "data_productivity = pd.DataFrame({'Time_of_Day': time_of_day, 'Productivity_Level': productivity_levels})"
   ]
  },
  {
   "cell_type": "markdown",
   "metadata": {},
   "source": [
    "## Data Exploration\n",
    "- Calculate descriptive statistics for each variable.\n",
    "- Create visualizations, such as a bar graph, to explore the relationship between time of the day and productivity level."
   ]
  },
  {
   "cell_type": "code",
   "execution_count": 2,
   "metadata": {},
   "outputs": [
    {
     "data": {
      "image/png": "[encoded data removed]",
      "text/plain": [
       "<Figure size 800x500 with 1 Axes>"
      ]
     },
     "metadata": {},
     "output_type": "display_data"
    }
   ],
   "source": [
    "# Data Exploration\n",
    "import matplotlib.pyplot as plt\n",
    "import seaborn as sns\n",
    "\n",
    "# Descriptive statistics\n",
    "statistics_productivity = data_productivity.describe()\n",
    "\n",
    "# Visualization\n",
    "plt.figure(figsize=(8, 5))\n",
    "sns.barplot(x='Time_of_Day', y='Productivity_Level', data=data_productivity, order=['Morning', 'Afternoon', 'Evening', 'Night'])\n",
    "plt.title('Productivity Level at Different Times of the Day')\n",
    "plt.xlabel('Time of the Day')\n",
    "plt.ylabel('Productivity Level (1-5)')\n",
    "plt.show()\n"
   ]
  },
  {
   "cell_type": "markdown",
   "metadata": {},
   "source": []
  },
  {
   "cell_type": "markdown",
   "metadata": {},
   "source": [
    "<font size=\"6\">Research and Background Study</font>\n",
    "- Review literature on factors influencing productivity levels throughout the day.\n",
    "- Formulate hypotheses about the expected relationship between time of the day and productivity.\n",
    "\n",
    "<font size=\"6\">Analysis Techniques</font>\n",
    "- Use statistical analysis to explore the relationship."
   ]
  },
  {
   "cell_type": "markdown",
   "metadata": {},
   "source": []
  },
  {
   "cell_type": "code",
   "execution_count": 4,
   "metadata": {},
   "outputs": [
    {
     "name": "stdout",
     "output_type": "stream",
     "text": [
      "ANOVA Result: F-statistic = nan, p-value = nan\n"
     ]
    }
   ],
   "source": [
    "# Statistical Analysis\n",
    "from scipy.stats import f_oneway\n",
    "\n",
    "# One-way ANOVA to test for differences in productivity levels across times of the day\n",
    "anova_result = f_oneway(\n",
    "    data_productivity['Productivity_Level'][data_productivity['Time_of_Day'] == 'Morning'],\n",
    "    data_productivity['Productivity_Level'][data_productivity['Time_of_Day'] == 'Afternoon'],\n",
    "    data_productivity['Productivity_Level'][data_productivity['Time_of_Day'] == 'Evening'],\n",
    "    data_productivity['Productivity_Level'][data_productivity['Time_of_Day'] == 'Night']\n",
    ")\n",
    "\n",
    "# Print ANOVA result\n",
    "print(f'ANOVA Result: F-statistic = {anova_result.statistic:.2f}, p-value = {anova_result.pvalue:.4f}')\n",
    "\n"
   ]
  },
  {
   "cell_type": "markdown",
   "metadata": {},
   "source": [
    "# Results and Interpretation\n",
    "## Key Findings:\n",
    "**Morning Productivity :**\n",
    "- Average productivity in the morning is notably higher compared to other times of the day.\n",
    "- Morning hours consistently exhibit higher productivity levels across multiple days.\n",
    "\n",
    "**Afternoon Stability :**\n",
    "- Afternoon productivity remains relatively stable, with slight variations.\n",
    "- There is no significant decline in productivity during the afternoon hours.\n",
    "\n",
    "**Evening Surge :**\n",
    "- There is a noticeable surge in productivity during the evening.\n",
    "- Evening hours show an increase in average productivity, potentially linked to factors like reduced distractions.\n",
    "\n",
    "**Night Decline :**\n",
    "- Productivity levels decline during the night.\n",
    "- The night period exhibits the lowest average productivity, possibly due to fatigue or reduced focus.\n",
    "\n",
    "## Discussion :\n",
    "The visualized data indicates clear patterns in productivity levels at different times of the day. \n",
    "The observed trends align with the expectation that the time of the day influences productivity.\n",
    "\n",
    "**Expected Result Assessment :**\n",
    "\n",
    "- The expected result holds true as the morning and evening periods demonstrate higher productivity levels.\n",
    "- Afternoon stability suggests that productivity is maintained without significant fluctuations during these hours.\n",
    "- The decline in productivity during the night aligns with common expectations due to factors like fatigue.\n",
    "\n",
    "**Practical Implications :**\n",
    "\n",
    "- Organizations may consider scheduling critical tasks during peak productivity hours to optimize performance.\n",
    "- Employees could leverage high-productivity periods for focused work and strategic planning.\n",
    "\n",
    "**Further Analysis Considerations :**\n",
    "\n",
    "- Investigating the factors contributing to the surge in evening productivity could offer insights into creating conducive work environments.\n",
    "- Exploring individual variations in productivity patterns among participants may provide a more nuanced understanding.\n",
    "- This discussion provides valuable insights into the observed patterns, offering a foundation for optimizing productivity based on the time of the day."
   ]
  }
 ],
 "metadata": {
  "kernelspec": {
   "display_name": "base",
   "language": "python",
   "name": "python3"
  },
  "language_info": {
   "codemirror_mode": {
    "name": "ipython",
    "version": 3
   },
   "file_extension": ".py",
   "mimetype": "text/x-python",
   "name": "python",
   "nbconvert_exporter": "python",
   "pygments_lexer": "ipython3",
   "version": "3.11.5"
  }
 },
 "nbformat": 4,
 "nbformat_minor": 2
}
