{
 "cells": [
  {
   "cell_type": "code",
   "execution_count": 6,
   "metadata": {},
   "outputs": [
    {
     "name": "stdout",
     "output_type": "stream",
     "text": [
      "Union of E and N is {0, 1, 2, 3, 4, 5, 6, 8}\n",
      "Intersection of E and N is {2, 4}\n",
      "Difference of E and N is {0, 8, 6}\n",
      "Symmetric difference of E and N is {0, 1, 3, 5, 6, 8}\n"
     ]
    }
   ],
   "source": [
    "# Define two sets\n",
    "E = {8, 2, 4, 6, 0}\n",
    "N = {1, 2, 3, 5, 4}\n",
    "\n",
    "# Perform set operations\n",
    "union_result = E.union(N)\n",
    "intersection_result = E.intersection(N)\n",
    "difference_result = E.difference(N)\n",
    "symmetric_difference_result = E.symmetric_difference(N)\n",
    "\n",
    "# Print the results\n",
    "print(f\"Union of E and N is {union_result}\")\n",
    "print(f\"Intersection of E and N is {intersection_result}\")\n",
    "print(f\"Difference of E and N is {difference_result}\")\n",
    "print(f\"Symmetric difference of E and N is {symmetric_difference_result}\")\n"
   ]
  }
 ],
 "metadata": {
  "kernelspec": {
   "display_name": "base",
   "language": "python",
   "name": "python3"
  },
  "language_info": {
   "codemirror_mode": {
    "name": "ipython",
    "version": 3
   },
   "file_extension": ".py",
   "mimetype": "text/x-python",
   "name": "python",
   "nbconvert_exporter": "python",
   "pygments_lexer": "ipython3",
   "version": "3.11.5"
  }
 },
 "nbformat": 4,
 "nbformat_minor": 2
}
